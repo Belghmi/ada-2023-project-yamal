{
 "cells": [
  {
   "cell_type": "code",
   "execution_count": 1,
   "id": "13c40034",
   "metadata": {},
   "outputs": [],
   "source": [
    "import pandas as pd\n",
    "import numpy as np\n",
    "import requests\n",
    "import matplotlib.pyplot as plt\n",
    "import seaborn as sns\n",
    "import pickle as pkl\n",
    "import random"
   ]
  },
  {
   "cell_type": "code",
   "execution_count": 2,
   "id": "d532c19c",
   "metadata": {},
   "outputs": [],
   "source": [
    "# Function to plot % of NaN values\n",
    "def plot_nan(df, title):\n",
    "    # Calculate the percentage of NaN values in each column\n",
    "    nan_values = df.isnull().mean() * 100\n",
    "    # Create a bar plot\n",
    "    nan_values.plot(kind='bar', figsize=(12,6))\n",
    "    plt.title(title)\n",
    "    plt.ylabel('Percentage')\n",
    "    plt.show()"
   ]
  },
  {
   "cell_type": "code",
   "execution_count": 3,
   "id": "bbe13fa0",
   "metadata": {},
   "outputs": [],
   "source": [
    "def query_wikidata():\n",
    "    url = 'https://query.wikidata.org/sparql'\n",
    "    query = \"\"\"\n",
    "    SELECT ?item ?imdb ?freebase WHERE {\n",
    "      ?item wdt:P345 ?imdb.\n",
    "      ?item wdt:P646 ?freebase.\n",
    "    }\n",
    "    \"\"\"\n",
    "    r = requests.get(url, params = {'format': 'json', 'query': query})\n",
    "    data = r.json()\n",
    "    return data"
   ]
  },
  {
   "cell_type": "code",
   "execution_count": 4,
   "id": "17a721d1",
   "metadata": {},
   "outputs": [],
   "source": [
    "def json_to_df(data):\n",
    "    imdb_ids = []\n",
    "    freebase_ids = []\n",
    "    for item in data['results']['bindings']:\n",
    "        imdb_ids.append(item['imdb']['value'])\n",
    "        freebase_ids.append(item['freebase']['value'])\n",
    "    df = pd.DataFrame({'imdb_id': imdb_ids, 'freebase_id': freebase_ids})\n",
    "    return df"
   ]
  },
  {
   "cell_type": "code",
   "execution_count": 5,
   "id": "fbca1afa",
   "metadata": {},
   "outputs": [],
   "source": [
    "base_dataset_folder = './base_data_set/'\n",
    "\n",
    "\n",
    "# Loading characters\n",
    "columns_char = ['Wikipedia_Movie_ID', 'Freebase_Movie_ID', 'Character_Name', 'Actor_DOB', \n",
    "                'Actor_gender', 'Actor_height', 'Actor_ethnicity', 'Actor_Name', \n",
    "                'Actor_age_at_movie_release', 'Freebase_character_map']\n",
    "\n",
    "characters = pd.read_table(base_dataset_folder+'character.metadata.tsv', names=columns_char, \n",
    "                           usecols=[0, 1, 3, 4, 5, 6, 7, 8, 9, 10])\n",
    "\n",
    "\n",
    "# Loading movies\n",
    "columns_mov = ['Wikipedia_Movie_ID','Freebase_Movie_ID','Movie_name','Movie_release_date',\n",
    "          'Movie_box_office_revenue', 'Movie_runtime', 'Movie_languages', 'Movie_countries',\n",
    "          'Movie_genres']\n",
    "\n",
    "cmu_df = pd.read_table(base_dataset_folder+'movie.metadata.tsv', names=columns_mov, skipinitialspace=True)"
   ]
  },
  {
   "cell_type": "markdown",
   "id": "7ae73d56",
   "metadata": {},
   "source": [
    "## Import the 2 IMDb datasets\n",
    "\n",
    "It's possible to join these datasets on the column called \"tconst\" but to join this data set with the CMU dataset Wikidata query must be used "
   ]
  },
  {
   "cell_type": "code",
   "execution_count": 6,
   "id": "582856fa",
   "metadata": {},
   "outputs": [],
   "source": [
    "IMDb_path = './external_data_sets/IMDb/'\n",
    "ratings_df = pd.read_csv(IMDb_path + 'ratings.tsv', delimiter='\\t',low_memory = False)"
   ]
  },
  {
   "cell_type": "code",
   "execution_count": 7,
   "id": "4ffb5b10",
   "metadata": {},
   "outputs": [
    {
     "name": "stdout",
     "output_type": "stream",
     "text": [
      "\n",
      "Ratings DataFrame:\n",
      "      tconst  averageRating  numVotes\n",
      "0  tt0000001            5.7      2007\n",
      "1  tt0000002            5.8       269\n",
      "2  tt0000003            6.5      1912\n",
      "3  tt0000004            5.5       178\n",
      "4  tt0000005            6.2      2692\n"
     ]
    }
   ],
   "source": [
    "# Inspect the first few rows of the datasets\n",
    "print(\"\\nRatings DataFrame:\")\n",
    "print(ratings_df.head())"
   ]
  },
  {
   "cell_type": "code",
   "execution_count": 8,
   "id": "2a414826",
   "metadata": {},
   "outputs": [
    {
     "name": "stdout",
     "output_type": "stream",
     "text": [
      "\n",
      "Ratings DataFrame columns:\n",
      "Index(['tconst', 'averageRating', 'numVotes'], dtype='object')\n"
     ]
    }
   ],
   "source": [
    "# Get the column names\n",
    "print(\"\\nRatings DataFrame columns:\")\n",
    "print(ratings_df.columns)"
   ]
  },
  {
   "cell_type": "code",
   "execution_count": 9,
   "id": "956999c7",
   "metadata": {},
   "outputs": [
    {
     "name": "stdout",
     "output_type": "stream",
     "text": [
      "\n",
      "Number of NaN values in Ratings DataFrame:\n",
      "tconst           0\n",
      "averageRating    0\n",
      "numVotes         0\n",
      "dtype: int64\n"
     ]
    }
   ],
   "source": [
    "# Get the number of NaN values in each column\n",
    "print(\"\\nNumber of NaN values in Ratings DataFrame:\")\n",
    "print(ratings_df.isnull().sum())"
   ]
  },
  {
   "cell_type": "code",
   "execution_count": 10,
   "id": "ce083e83",
   "metadata": {},
   "outputs": [
    {
     "data": {
      "text/html": [
       "<div>\n",
       "<style scoped>\n",
       "    .dataframe tbody tr th:only-of-type {\n",
       "        vertical-align: middle;\n",
       "    }\n",
       "\n",
       "    .dataframe tbody tr th {\n",
       "        vertical-align: top;\n",
       "    }\n",
       "\n",
       "    .dataframe thead th {\n",
       "        text-align: right;\n",
       "    }\n",
       "</style>\n",
       "<table border=\"1\" class=\"dataframe\">\n",
       "  <thead>\n",
       "    <tr style=\"text-align: right;\">\n",
       "      <th></th>\n",
       "      <th>tconst</th>\n",
       "      <th>averageRating</th>\n",
       "      <th>numVotes</th>\n",
       "    </tr>\n",
       "  </thead>\n",
       "  <tbody>\n",
       "    <tr>\n",
       "      <th>146641</th>\n",
       "      <td>tt0232844</td>\n",
       "      <td>5.2</td>\n",
       "      <td>25</td>\n",
       "    </tr>\n",
       "    <tr>\n",
       "      <th>582497</th>\n",
       "      <td>tt1240580</td>\n",
       "      <td>4.9</td>\n",
       "      <td>34</td>\n",
       "    </tr>\n",
       "    <tr>\n",
       "      <th>49346</th>\n",
       "      <td>tt0072142</td>\n",
       "      <td>5.5</td>\n",
       "      <td>349</td>\n",
       "    </tr>\n",
       "    <tr>\n",
       "      <th>1273823</th>\n",
       "      <td>tt7530834</td>\n",
       "      <td>7.5</td>\n",
       "      <td>18</td>\n",
       "    </tr>\n",
       "    <tr>\n",
       "      <th>864549</th>\n",
       "      <td>tt21078600</td>\n",
       "      <td>7.7</td>\n",
       "      <td>8</td>\n",
       "    </tr>\n",
       "  </tbody>\n",
       "</table>\n",
       "</div>"
      ],
      "text/plain": [
       "             tconst  averageRating  numVotes\n",
       "146641    tt0232844            5.2        25\n",
       "582497    tt1240580            4.9        34\n",
       "49346     tt0072142            5.5       349\n",
       "1273823   tt7530834            7.5        18\n",
       "864549   tt21078600            7.7         8"
      ]
     },
     "execution_count": 10,
     "metadata": {},
     "output_type": "execute_result"
    }
   ],
   "source": [
    "ratings_df.sample(5)"
   ]
  },
  {
   "cell_type": "markdown",
   "id": "39bdc1cc",
   "metadata": {},
   "source": [
    "### Above shows which values are missing and how many of them are missing"
   ]
  },
  {
   "cell_type": "markdown",
   "id": "b595b13e",
   "metadata": {},
   "source": [
    "### Merge using Wikidata Query service since many columns are inconsistent with each other"
   ]
  },
  {
   "cell_type": "code",
   "execution_count": 11,
   "id": "b5636eb7",
   "metadata": {},
   "outputs": [
    {
     "data": {
      "text/plain": [
       "(Index(['tconst', 'averageRating', 'numVotes'], dtype='object'),\n",
       " Index(['Wikipedia_Movie_ID', 'Freebase_Movie_ID', 'Movie_name',\n",
       "        'Movie_release_date', 'Movie_box_office_revenue', 'Movie_runtime',\n",
       "        'Movie_languages', 'Movie_countries', 'Movie_genres'],\n",
       "       dtype='object'))"
      ]
     },
     "execution_count": 11,
     "metadata": {},
     "output_type": "execute_result"
    }
   ],
   "source": [
    "ratings_df.columns, cmu_df.columns"
   ]
  },
  {
   "cell_type": "code",
   "execution_count": 12,
   "id": "a7ac9381",
   "metadata": {},
   "outputs": [
    {
     "data": {
      "text/plain": [
       "(1369210, 81741)"
      ]
     },
     "execution_count": 12,
     "metadata": {},
     "output_type": "execute_result"
    }
   ],
   "source": [
    "len(ratings_df),len(cmu_df)"
   ]
  },
  {
   "cell_type": "code",
   "execution_count": 13,
   "id": "991e8081",
   "metadata": {},
   "outputs": [],
   "source": [
    "#freebase_ids = cmu_df['Freebase_Movie_ID'].tolist()\n",
    "data = query_wikidata()"
   ]
  },
  {
   "cell_type": "code",
   "execution_count": 14,
   "id": "92ae7387",
   "metadata": {},
   "outputs": [],
   "source": [
    "wikidata_df = json_to_df(data)"
   ]
  },
  {
   "cell_type": "code",
   "execution_count": 15,
   "id": "df36ddb3",
   "metadata": {},
   "outputs": [
    {
     "data": {
      "text/html": [
       "<div>\n",
       "<style scoped>\n",
       "    .dataframe tbody tr th:only-of-type {\n",
       "        vertical-align: middle;\n",
       "    }\n",
       "\n",
       "    .dataframe tbody tr th {\n",
       "        vertical-align: top;\n",
       "    }\n",
       "\n",
       "    .dataframe thead th {\n",
       "        text-align: right;\n",
       "    }\n",
       "</style>\n",
       "<table border=\"1\" class=\"dataframe\">\n",
       "  <thead>\n",
       "    <tr style=\"text-align: right;\">\n",
       "      <th></th>\n",
       "      <th>tconst</th>\n",
       "      <th>averageRating</th>\n",
       "      <th>numVotes</th>\n",
       "    </tr>\n",
       "  </thead>\n",
       "  <tbody>\n",
       "    <tr>\n",
       "      <th>0</th>\n",
       "      <td>tt0000001</td>\n",
       "      <td>5.7</td>\n",
       "      <td>2007</td>\n",
       "    </tr>\n",
       "    <tr>\n",
       "      <th>1</th>\n",
       "      <td>tt0000002</td>\n",
       "      <td>5.8</td>\n",
       "      <td>269</td>\n",
       "    </tr>\n",
       "    <tr>\n",
       "      <th>2</th>\n",
       "      <td>tt0000003</td>\n",
       "      <td>6.5</td>\n",
       "      <td>1912</td>\n",
       "    </tr>\n",
       "    <tr>\n",
       "      <th>3</th>\n",
       "      <td>tt0000004</td>\n",
       "      <td>5.5</td>\n",
       "      <td>178</td>\n",
       "    </tr>\n",
       "    <tr>\n",
       "      <th>4</th>\n",
       "      <td>tt0000005</td>\n",
       "      <td>6.2</td>\n",
       "      <td>2692</td>\n",
       "    </tr>\n",
       "  </tbody>\n",
       "</table>\n",
       "</div>"
      ],
      "text/plain": [
       "      tconst  averageRating  numVotes\n",
       "0  tt0000001            5.7      2007\n",
       "1  tt0000002            5.8       269\n",
       "2  tt0000003            6.5      1912\n",
       "3  tt0000004            5.5       178\n",
       "4  tt0000005            6.2      2692"
      ]
     },
     "execution_count": 15,
     "metadata": {},
     "output_type": "execute_result"
    }
   ],
   "source": [
    "ratings_df.head(5)"
   ]
  },
  {
   "cell_type": "code",
   "execution_count": 16,
   "id": "3e109bb7",
   "metadata": {},
   "outputs": [
    {
     "data": {
      "text/html": [
       "<div>\n",
       "<style scoped>\n",
       "    .dataframe tbody tr th:only-of-type {\n",
       "        vertical-align: middle;\n",
       "    }\n",
       "\n",
       "    .dataframe tbody tr th {\n",
       "        vertical-align: top;\n",
       "    }\n",
       "\n",
       "    .dataframe thead th {\n",
       "        text-align: right;\n",
       "    }\n",
       "</style>\n",
       "<table border=\"1\" class=\"dataframe\">\n",
       "  <thead>\n",
       "    <tr style=\"text-align: right;\">\n",
       "      <th></th>\n",
       "      <th>Wikipedia_Movie_ID</th>\n",
       "      <th>Freebase_Movie_ID</th>\n",
       "      <th>Movie_name</th>\n",
       "      <th>Movie_release_date</th>\n",
       "      <th>Movie_box_office_revenue</th>\n",
       "      <th>Movie_runtime</th>\n",
       "      <th>Movie_languages</th>\n",
       "      <th>Movie_countries</th>\n",
       "      <th>Movie_genres</th>\n",
       "    </tr>\n",
       "  </thead>\n",
       "  <tbody>\n",
       "    <tr>\n",
       "      <th>0</th>\n",
       "      <td>975900</td>\n",
       "      <td>/m/03vyhn</td>\n",
       "      <td>Ghosts of Mars</td>\n",
       "      <td>2001-08-24</td>\n",
       "      <td>14010832.0</td>\n",
       "      <td>98.0</td>\n",
       "      <td>{\"/m/02h40lc\": \"English Language\"}</td>\n",
       "      <td>{\"/m/09c7w0\": \"United States of America\"}</td>\n",
       "      <td>{\"/m/01jfsb\": \"Thriller\", \"/m/06n90\": \"Science...</td>\n",
       "    </tr>\n",
       "    <tr>\n",
       "      <th>1</th>\n",
       "      <td>3196793</td>\n",
       "      <td>/m/08yl5d</td>\n",
       "      <td>Getting Away with Murder: The JonBenét Ramsey ...</td>\n",
       "      <td>2000-02-16</td>\n",
       "      <td>NaN</td>\n",
       "      <td>95.0</td>\n",
       "      <td>{\"/m/02h40lc\": \"English Language\"}</td>\n",
       "      <td>{\"/m/09c7w0\": \"United States of America\"}</td>\n",
       "      <td>{\"/m/02n4kr\": \"Mystery\", \"/m/03bxz7\": \"Biograp...</td>\n",
       "    </tr>\n",
       "    <tr>\n",
       "      <th>2</th>\n",
       "      <td>28463795</td>\n",
       "      <td>/m/0crgdbh</td>\n",
       "      <td>Brun bitter</td>\n",
       "      <td>1988</td>\n",
       "      <td>NaN</td>\n",
       "      <td>83.0</td>\n",
       "      <td>{\"/m/05f_3\": \"Norwegian Language\"}</td>\n",
       "      <td>{\"/m/05b4w\": \"Norway\"}</td>\n",
       "      <td>{\"/m/0lsxr\": \"Crime Fiction\", \"/m/07s9rl0\": \"D...</td>\n",
       "    </tr>\n",
       "    <tr>\n",
       "      <th>3</th>\n",
       "      <td>9363483</td>\n",
       "      <td>/m/0285_cd</td>\n",
       "      <td>White Of The Eye</td>\n",
       "      <td>1987</td>\n",
       "      <td>NaN</td>\n",
       "      <td>110.0</td>\n",
       "      <td>{\"/m/02h40lc\": \"English Language\"}</td>\n",
       "      <td>{\"/m/07ssc\": \"United Kingdom\"}</td>\n",
       "      <td>{\"/m/01jfsb\": \"Thriller\", \"/m/0glj9q\": \"Erotic...</td>\n",
       "    </tr>\n",
       "    <tr>\n",
       "      <th>4</th>\n",
       "      <td>261236</td>\n",
       "      <td>/m/01mrr1</td>\n",
       "      <td>A Woman in Flames</td>\n",
       "      <td>1983</td>\n",
       "      <td>NaN</td>\n",
       "      <td>106.0</td>\n",
       "      <td>{\"/m/04306rv\": \"German Language\"}</td>\n",
       "      <td>{\"/m/0345h\": \"Germany\"}</td>\n",
       "      <td>{\"/m/07s9rl0\": \"Drama\"}</td>\n",
       "    </tr>\n",
       "  </tbody>\n",
       "</table>\n",
       "</div>"
      ],
      "text/plain": [
       "   Wikipedia_Movie_ID Freebase_Movie_ID  \\\n",
       "0              975900         /m/03vyhn   \n",
       "1             3196793         /m/08yl5d   \n",
       "2            28463795        /m/0crgdbh   \n",
       "3             9363483        /m/0285_cd   \n",
       "4              261236         /m/01mrr1   \n",
       "\n",
       "                                          Movie_name Movie_release_date  \\\n",
       "0                                     Ghosts of Mars         2001-08-24   \n",
       "1  Getting Away with Murder: The JonBenét Ramsey ...         2000-02-16   \n",
       "2                                        Brun bitter               1988   \n",
       "3                                   White Of The Eye               1987   \n",
       "4                                  A Woman in Flames               1983   \n",
       "\n",
       "   Movie_box_office_revenue  Movie_runtime  \\\n",
       "0                14010832.0           98.0   \n",
       "1                       NaN           95.0   \n",
       "2                       NaN           83.0   \n",
       "3                       NaN          110.0   \n",
       "4                       NaN          106.0   \n",
       "\n",
       "                      Movie_languages  \\\n",
       "0  {\"/m/02h40lc\": \"English Language\"}   \n",
       "1  {\"/m/02h40lc\": \"English Language\"}   \n",
       "2  {\"/m/05f_3\": \"Norwegian Language\"}   \n",
       "3  {\"/m/02h40lc\": \"English Language\"}   \n",
       "4   {\"/m/04306rv\": \"German Language\"}   \n",
       "\n",
       "                             Movie_countries  \\\n",
       "0  {\"/m/09c7w0\": \"United States of America\"}   \n",
       "1  {\"/m/09c7w0\": \"United States of America\"}   \n",
       "2                     {\"/m/05b4w\": \"Norway\"}   \n",
       "3             {\"/m/07ssc\": \"United Kingdom\"}   \n",
       "4                    {\"/m/0345h\": \"Germany\"}   \n",
       "\n",
       "                                        Movie_genres  \n",
       "0  {\"/m/01jfsb\": \"Thriller\", \"/m/06n90\": \"Science...  \n",
       "1  {\"/m/02n4kr\": \"Mystery\", \"/m/03bxz7\": \"Biograp...  \n",
       "2  {\"/m/0lsxr\": \"Crime Fiction\", \"/m/07s9rl0\": \"D...  \n",
       "3  {\"/m/01jfsb\": \"Thriller\", \"/m/0glj9q\": \"Erotic...  \n",
       "4                            {\"/m/07s9rl0\": \"Drama\"}  "
      ]
     },
     "execution_count": 16,
     "metadata": {},
     "output_type": "execute_result"
    }
   ],
   "source": [
    "cmu_df.head(5)"
   ]
  },
  {
   "cell_type": "code",
   "execution_count": 17,
   "id": "aa7b9891",
   "metadata": {},
   "outputs": [
    {
     "data": {
      "text/html": [
       "<div>\n",
       "<style scoped>\n",
       "    .dataframe tbody tr th:only-of-type {\n",
       "        vertical-align: middle;\n",
       "    }\n",
       "\n",
       "    .dataframe tbody tr th {\n",
       "        vertical-align: top;\n",
       "    }\n",
       "\n",
       "    .dataframe thead th {\n",
       "        text-align: right;\n",
       "    }\n",
       "</style>\n",
       "<table border=\"1\" class=\"dataframe\">\n",
       "  <thead>\n",
       "    <tr style=\"text-align: right;\">\n",
       "      <th></th>\n",
       "      <th>imdb_id</th>\n",
       "      <th>freebase_id</th>\n",
       "    </tr>\n",
       "  </thead>\n",
       "  <tbody>\n",
       "    <tr>\n",
       "      <th>0</th>\n",
       "      <td>nm3628633</td>\n",
       "      <td>/m/0k83_1r</td>\n",
       "    </tr>\n",
       "    <tr>\n",
       "      <th>1</th>\n",
       "      <td>nm0012078</td>\n",
       "      <td>/m/02q173g</td>\n",
       "    </tr>\n",
       "    <tr>\n",
       "      <th>2</th>\n",
       "      <td>nm0394250</td>\n",
       "      <td>/m/03kfdk</td>\n",
       "    </tr>\n",
       "    <tr>\n",
       "      <th>3</th>\n",
       "      <td>tt0324924</td>\n",
       "      <td>/m/0ct2z8</td>\n",
       "    </tr>\n",
       "    <tr>\n",
       "      <th>4</th>\n",
       "      <td>nm0119354</td>\n",
       "      <td>/m/0356cy</td>\n",
       "    </tr>\n",
       "  </tbody>\n",
       "</table>\n",
       "</div>"
      ],
      "text/plain": [
       "     imdb_id freebase_id\n",
       "0  nm3628633  /m/0k83_1r\n",
       "1  nm0012078  /m/02q173g\n",
       "2  nm0394250   /m/03kfdk\n",
       "3  tt0324924   /m/0ct2z8\n",
       "4  nm0119354   /m/0356cy"
      ]
     },
     "execution_count": 17,
     "metadata": {},
     "output_type": "execute_result"
    }
   ],
   "source": [
    "wikidata_df.head(5)"
   ]
  },
  {
   "cell_type": "code",
   "execution_count": 18,
   "id": "b7b0a034",
   "metadata": {},
   "outputs": [
    {
     "data": {
      "text/plain": [
       "(397663, 1369210, 81741)"
      ]
     },
     "execution_count": 18,
     "metadata": {},
     "output_type": "execute_result"
    }
   ],
   "source": [
    "len(wikidata_df),len(ratings_df),len(cmu_df)"
   ]
  },
  {
   "cell_type": "code",
   "execution_count": 19,
   "id": "620e70dc",
   "metadata": {},
   "outputs": [],
   "source": [
    "# Merge cmu_df with wikidata_df\n",
    "merged_df = pd.merge(cmu_df, wikidata_df, how='left', left_on='Freebase_Movie_ID', right_on='freebase_id')\n",
    "\n",
    "# Merge the result with IMDb_df\n",
    "final_df = pd.merge(merged_df, ratings_df, how='left', left_on='imdb_id', right_on='tconst')\n",
    "#PROBLEM ABOVE"
   ]
  },
  {
   "cell_type": "code",
   "execution_count": 20,
   "id": "36b18b5d",
   "metadata": {},
   "outputs": [
    {
     "data": {
      "text/plain": [
       "(81876, 1369210, 81741)"
      ]
     },
     "execution_count": 20,
     "metadata": {},
     "output_type": "execute_result"
    }
   ],
   "source": [
    "len(final_df), len(ratings_df), len(cmu_df) #merged can be longer since a film may have 2 imdb ids"
   ]
  },
  {
   "cell_type": "code",
   "execution_count": 21,
   "id": "e57aff6b",
   "metadata": {},
   "outputs": [
    {
     "data": {
      "text/html": [
       "<div>\n",
       "<style scoped>\n",
       "    .dataframe tbody tr th:only-of-type {\n",
       "        vertical-align: middle;\n",
       "    }\n",
       "\n",
       "    .dataframe tbody tr th {\n",
       "        vertical-align: top;\n",
       "    }\n",
       "\n",
       "    .dataframe thead th {\n",
       "        text-align: right;\n",
       "    }\n",
       "</style>\n",
       "<table border=\"1\" class=\"dataframe\">\n",
       "  <thead>\n",
       "    <tr style=\"text-align: right;\">\n",
       "      <th></th>\n",
       "      <th>Wikipedia_Movie_ID</th>\n",
       "      <th>Freebase_Movie_ID</th>\n",
       "      <th>Movie_name</th>\n",
       "      <th>Movie_release_date</th>\n",
       "      <th>Movie_box_office_revenue</th>\n",
       "      <th>Movie_runtime</th>\n",
       "      <th>Movie_languages</th>\n",
       "      <th>Movie_countries</th>\n",
       "      <th>Movie_genres</th>\n",
       "      <th>imdb_id</th>\n",
       "      <th>freebase_id</th>\n",
       "      <th>tconst</th>\n",
       "      <th>averageRating</th>\n",
       "      <th>numVotes</th>\n",
       "    </tr>\n",
       "  </thead>\n",
       "  <tbody>\n",
       "    <tr>\n",
       "      <th>52226</th>\n",
       "      <td>22928463</td>\n",
       "      <td>/m/0640fbw</td>\n",
       "      <td>Woman Between Wolf and Dog</td>\n",
       "      <td>1979-05-16</td>\n",
       "      <td>NaN</td>\n",
       "      <td>111.0</td>\n",
       "      <td>{\"/m/02bv9\": \"Dutch Language\"}</td>\n",
       "      <td>{\"/m/0f8l9c\": \"France\", \"/m/0154j\": \"Belgium\"}</td>\n",
       "      <td>{\"/m/07s9rl0\": \"Drama\", \"/m/082gq\": \"War film\"}</td>\n",
       "      <td>tt0080110</td>\n",
       "      <td>/m/0640fbw</td>\n",
       "      <td>tt0080110</td>\n",
       "      <td>6.3</td>\n",
       "      <td>312.0</td>\n",
       "    </tr>\n",
       "    <tr>\n",
       "      <th>22565</th>\n",
       "      <td>1802944</td>\n",
       "      <td>/m/05y6ql</td>\n",
       "      <td>The Crippled Masters</td>\n",
       "      <td>1979</td>\n",
       "      <td>NaN</td>\n",
       "      <td>90.0</td>\n",
       "      <td>{\"/m/03115z\": \"Mandarin Chinese\"}</td>\n",
       "      <td>{\"/m/06f32\": \"Taiwan\"}</td>\n",
       "      <td>{\"/m/02kdv5l\": \"Action\", \"/m/04t2t\": \"Martial ...</td>\n",
       "      <td>tt0122029</td>\n",
       "      <td>/m/05y6ql</td>\n",
       "      <td>tt0122029</td>\n",
       "      <td>5.7</td>\n",
       "      <td>995.0</td>\n",
       "    </tr>\n",
       "    <tr>\n",
       "      <th>68354</th>\n",
       "      <td>2622769</td>\n",
       "      <td>/m/07sft3</td>\n",
       "      <td>The Thief</td>\n",
       "      <td>2005-08-09</td>\n",
       "      <td>NaN</td>\n",
       "      <td>79.0</td>\n",
       "      <td>{\"/m/02h40lc\": \"English Language\"}</td>\n",
       "      <td>{\"/m/09c7w0\": \"United States of America\"}</td>\n",
       "      <td>{\"/m/0lsxr\": \"Crime Fiction\"}</td>\n",
       "      <td>tt0473101</td>\n",
       "      <td>/m/07sft3</td>\n",
       "      <td>tt0473101</td>\n",
       "      <td>5.7</td>\n",
       "      <td>12.0</td>\n",
       "    </tr>\n",
       "    <tr>\n",
       "      <th>32150</th>\n",
       "      <td>6391489</td>\n",
       "      <td>/m/0g3lsp</td>\n",
       "      <td>Fit to Kill</td>\n",
       "      <td>1993</td>\n",
       "      <td>NaN</td>\n",
       "      <td>94.0</td>\n",
       "      <td>{\"/m/02h40lc\": \"English Language\"}</td>\n",
       "      <td>{\"/m/09c7w0\": \"United States of America\"}</td>\n",
       "      <td>{\"/m/01jfsb\": \"Thriller\", \"/m/04btyz\": \"Heist\"...</td>\n",
       "      <td>tt0106922</td>\n",
       "      <td>/m/0g3lsp</td>\n",
       "      <td>tt0106922</td>\n",
       "      <td>4.2</td>\n",
       "      <td>1313.0</td>\n",
       "    </tr>\n",
       "    <tr>\n",
       "      <th>32674</th>\n",
       "      <td>1826578</td>\n",
       "      <td>/m/05_0nr</td>\n",
       "      <td>The Art of War</td>\n",
       "      <td>2000-08-23</td>\n",
       "      <td>40400425.0</td>\n",
       "      <td>117.0</td>\n",
       "      <td>{\"/m/02h40lc\": \"English Language\"}</td>\n",
       "      <td>{\"/m/09c7w0\": \"United States of America\", \"/m/...</td>\n",
       "      <td>{\"/m/01jfsb\": \"Thriller\", \"/m/02wtdps\": \"Crime...</td>\n",
       "      <td>tt0160009</td>\n",
       "      <td>/m/05_0nr</td>\n",
       "      <td>tt0160009</td>\n",
       "      <td>5.7</td>\n",
       "      <td>30640.0</td>\n",
       "    </tr>\n",
       "  </tbody>\n",
       "</table>\n",
       "</div>"
      ],
      "text/plain": [
       "       Wikipedia_Movie_ID Freebase_Movie_ID                  Movie_name  \\\n",
       "52226            22928463        /m/0640fbw  Woman Between Wolf and Dog   \n",
       "22565             1802944         /m/05y6ql        The Crippled Masters   \n",
       "68354             2622769         /m/07sft3                   The Thief   \n",
       "32150             6391489         /m/0g3lsp                 Fit to Kill   \n",
       "32674             1826578         /m/05_0nr              The Art of War   \n",
       "\n",
       "      Movie_release_date  Movie_box_office_revenue  Movie_runtime  \\\n",
       "52226         1979-05-16                       NaN          111.0   \n",
       "22565               1979                       NaN           90.0   \n",
       "68354         2005-08-09                       NaN           79.0   \n",
       "32150               1993                       NaN           94.0   \n",
       "32674         2000-08-23                40400425.0          117.0   \n",
       "\n",
       "                          Movie_languages  \\\n",
       "52226      {\"/m/02bv9\": \"Dutch Language\"}   \n",
       "22565   {\"/m/03115z\": \"Mandarin Chinese\"}   \n",
       "68354  {\"/m/02h40lc\": \"English Language\"}   \n",
       "32150  {\"/m/02h40lc\": \"English Language\"}   \n",
       "32674  {\"/m/02h40lc\": \"English Language\"}   \n",
       "\n",
       "                                         Movie_countries  \\\n",
       "52226     {\"/m/0f8l9c\": \"France\", \"/m/0154j\": \"Belgium\"}   \n",
       "22565                             {\"/m/06f32\": \"Taiwan\"}   \n",
       "68354          {\"/m/09c7w0\": \"United States of America\"}   \n",
       "32150          {\"/m/09c7w0\": \"United States of America\"}   \n",
       "32674  {\"/m/09c7w0\": \"United States of America\", \"/m/...   \n",
       "\n",
       "                                            Movie_genres    imdb_id  \\\n",
       "52226    {\"/m/07s9rl0\": \"Drama\", \"/m/082gq\": \"War film\"}  tt0080110   \n",
       "22565  {\"/m/02kdv5l\": \"Action\", \"/m/04t2t\": \"Martial ...  tt0122029   \n",
       "68354                      {\"/m/0lsxr\": \"Crime Fiction\"}  tt0473101   \n",
       "32150  {\"/m/01jfsb\": \"Thriller\", \"/m/04btyz\": \"Heist\"...  tt0106922   \n",
       "32674  {\"/m/01jfsb\": \"Thriller\", \"/m/02wtdps\": \"Crime...  tt0160009   \n",
       "\n",
       "      freebase_id     tconst  averageRating  numVotes  \n",
       "52226  /m/0640fbw  tt0080110            6.3     312.0  \n",
       "22565   /m/05y6ql  tt0122029            5.7     995.0  \n",
       "68354   /m/07sft3  tt0473101            5.7      12.0  \n",
       "32150   /m/0g3lsp  tt0106922            4.2    1313.0  \n",
       "32674   /m/05_0nr  tt0160009            5.7   30640.0  "
      ]
     },
     "execution_count": 21,
     "metadata": {},
     "output_type": "execute_result"
    }
   ],
   "source": [
    "final_df.sample(5)"
   ]
  },
  {
   "cell_type": "code",
   "execution_count": 22,
   "id": "77e7c18b",
   "metadata": {},
   "outputs": [
    {
     "name": "stdout",
     "output_type": "stream",
     "text": [
      "\n",
      "Number of NaN values in Wikidata DataFrame:\n",
      "imdb_id        0\n",
      "freebase_id    0\n",
      "dtype: int64\n"
     ]
    }
   ],
   "source": [
    "# Get the number of NaN values in each column\n",
    "print(\"\\nNumber of NaN values in Wikidata DataFrame:\")\n",
    "print(wikidata_df.isnull().sum())"
   ]
  },
  {
   "cell_type": "code",
   "execution_count": 23,
   "id": "b5bf8f92",
   "metadata": {},
   "outputs": [
    {
     "data": {
      "image/png": "[encoded data removed]",
      "text/plain": [
       "<Figure size 1200x600 with 1 Axes>"
      ]
     },
     "metadata": {},
     "output_type": "display_data"
    }
   ],
   "source": [
    "plot_nan(final_df, \"NaNs in the Merged dataframe\")"
   ]
  },
  {
   "cell_type": "code",
   "execution_count": 24,
   "id": "422d329b",
   "metadata": {},
   "outputs": [
    {
     "data": {
      "text/plain": [
       "False"
      ]
     },
     "execution_count": 24,
     "metadata": {},
     "output_type": "execute_result"
    }
   ],
   "source": [
    "# Checking if all the Freebase_movie_ID elements are in the mapping found using the wikidata query\n",
    "all_elements_in = final_df.Freebase_Movie_ID.isin(wikidata_df.freebase_id)\n",
    "all_elements_in.all()"
   ]
  },
  {
   "cell_type": "code",
   "execution_count": 25,
   "id": "d36fdc36",
   "metadata": {},
   "outputs": [
    {
     "data": {
      "text/plain": [
       "(14, 9, 3)"
      ]
     },
     "execution_count": 25,
     "metadata": {},
     "output_type": "execute_result"
    }
   ],
   "source": [
    "len(final_df.columns),len(cmu_df.columns),len(ratings_df.columns)"
   ]
  },
  {
   "cell_type": "code",
   "execution_count": 26,
   "id": "f2081d28",
   "metadata": {},
   "outputs": [
    {
     "data": {
      "text/plain": [
       "Index(['Wikipedia_Movie_ID', 'Freebase_Movie_ID', 'Movie_name',\n",
       "       'Movie_release_date', 'Movie_box_office_revenue', 'Movie_runtime',\n",
       "       'Movie_languages', 'Movie_countries', 'Movie_genres', 'imdb_id',\n",
       "       'freebase_id', 'tconst', 'averageRating', 'numVotes'],\n",
       "      dtype='object')"
      ]
     },
     "execution_count": 26,
     "metadata": {},
     "output_type": "execute_result"
    }
   ],
   "source": [
    "final_df.columns"
   ]
  },
  {
   "cell_type": "code",
   "execution_count": 27,
   "id": "36d3a38b",
   "metadata": {},
   "outputs": [
    {
     "data": {
      "text/plain": [
       "Index(['Wikipedia_Movie_ID', 'Freebase_Movie_ID', 'Movie_name',\n",
       "       'Movie_release_date', 'Movie_box_office_revenue', 'Movie_runtime',\n",
       "       'Movie_languages', 'Movie_countries', 'Movie_genres'],\n",
       "      dtype='object')"
      ]
     },
     "execution_count": 27,
     "metadata": {},
     "output_type": "execute_result"
    }
   ],
   "source": [
    "cmu_df.columns"
   ]
  },
  {
   "cell_type": "code",
   "execution_count": 28,
   "id": "8293943b",
   "metadata": {},
   "outputs": [
    {
     "data": {
      "text/plain": [
       "Index(['tconst', 'averageRating', 'numVotes'], dtype='object')"
      ]
     },
     "execution_count": 28,
     "metadata": {},
     "output_type": "execute_result"
    }
   ],
   "source": [
    "ratings_df.columns"
   ]
  },
  {
   "cell_type": "markdown",
   "id": "16224087",
   "metadata": {},
   "source": [
    "## Potential problems:\n",
    "\n",
    "Some filme have more than one IMDb ID and also not all elements in the CMU dataset have corresponding Freebase ID found using the query."
   ]
  },
  {
   "cell_type": "markdown",
   "id": "3e4ffab8",
   "metadata": {},
   "source": [
    "### Drop duplicates since there were sometimes more than 1 IMDb ID"
   ]
  },
  {
   "cell_type": "code",
   "execution_count": 29,
   "id": "a8bab3a9",
   "metadata": {},
   "outputs": [
    {
     "data": {
      "text/plain": [
       "75478"
      ]
     },
     "execution_count": 29,
     "metadata": {},
     "output_type": "execute_result"
    }
   ],
   "source": [
    "final_df_cleaned = final_df.drop_duplicates(subset = 'Movie_name', keep = 'first')\n",
    "len(final_df_cleaned)"
   ]
  },
  {
   "cell_type": "code",
   "execution_count": 30,
   "id": "6ad3e400",
   "metadata": {},
   "outputs": [
    {
     "name": "stdout",
     "output_type": "stream",
     "text": [
      "Using the wikidata Query we are able to merge 83.36 % of the Freebase ID to corresponding IMDb ID\n"
     ]
    }
   ],
   "source": [
    "percentage_FreebaseID = ((final_df_cleaned.Freebase_Movie_ID.isin(wikidata_df.freebase_id)).sum() / len(cmu_df.Freebase_Movie_ID)) * 100\n",
    "print(f\"Using the wikidata Query we are able to merge {round(percentage_FreebaseID,2)} % of the Freebase ID to corresponding IMDb ID\")"
   ]
  },
  {
   "cell_type": "markdown",
   "id": "e0b81990",
   "metadata": {},
   "source": [
    "## Remove objects that aren't movie"
   ]
  },
  {
   "cell_type": "code",
   "execution_count": 31,
   "id": "90cb3b8c",
   "metadata": {},
   "outputs": [],
   "source": [
    "final_df.to_csv('merged.csv', index=False)"
   ]
  },
  {
   "cell_type": "code",
   "execution_count": 32,
   "id": "50ec4adf",
   "metadata": {},
   "outputs": [],
   "source": [
    "wikidata_df.to_csv('mapping.csv', index=False)"
   ]
  }
 ],
 "metadata": {
  "kernelspec": {
   "display_name": "Python 3 (ipykernel)",
   "language": "python",
   "name": "python3"
  },
  "language_info": {
   "codemirror_mode": {
    "name": "ipython",
    "version": 3
   },
   "file_extension": ".py",
   "mimetype": "text/x-python",
   "name": "python",
   "nbconvert_exporter": "python",
   "pygments_lexer": "ipython3",
   "version": "3.9.18"
  }
 },
 "nbformat": 4,
 "nbformat_minor": 5
}
