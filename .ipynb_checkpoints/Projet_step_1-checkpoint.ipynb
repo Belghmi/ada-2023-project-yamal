{
 "cells": [
  {
   "cell_type": "markdown",
   "id": "dee88f6c",
   "metadata": {},
   "source": [
    "# Project ADA - CMU Movie Summary Corpus\n",
    "\n",
    "### YAMAL Team"
   ]
  },
  {
   "cell_type": "markdown",
   "id": "66435726",
   "metadata": {},
   "source": [
    "### To do\n",
    "\n",
    "- check how genre are classified (Is the first one the most important one?)"
   ]
  },
  {
   "cell_type": "markdown",
   "id": "d4de0e2e",
   "metadata": {},
   "source": [
    "### Useful libraries"
   ]
  },
  {
   "cell_type": "code",
   "execution_count": 7,
   "id": "f0944740",
   "metadata": {},
   "outputs": [
    {
     "name": "stdout",
     "output_type": "stream",
     "text": [
      "The autoreload extension is already loaded. To reload it, use:\n",
      "  %reload_ext autoreload\n"
     ]
    }
   ],
   "source": [
    "import re\n",
    "import ast\n",
    "import random\n",
    "import utils\n",
    "import requests\n",
    "import pandas as pd\n",
    "import numpy as np\n",
    "import pickle as pkl\n",
    "import seaborn as sns\n",
    "from scipy import stats\n",
    "import matplotlib.pyplot as plt\n",
    "%matplotlib inline\n",
    "%load_ext autoreload\n",
    "%autoreload 2"
   ]
  },
  {
   "cell_type": "markdown",
   "id": "8f5ef6b1",
   "metadata": {},
   "source": [
    "# 1) CMU DATASET ANALYSIS"
   ]
  },
  {
   "cell_type": "markdown",
   "id": "84ca63e1",
   "metadata": {},
   "source": [
    "### Loading data set"
   ]
  },
  {
   "cell_type": "code",
   "execution_count": 8,
   "id": "2611b2cf",
   "metadata": {},
   "outputs": [],
   "source": [
    "DATA_FOLDER = './base_data_set/'\n",
    "\n",
    "\n",
    "# Loading characters\n",
    "columns_char = ['Wikipedia_Movie_ID', 'Freebase_Movie_ID', 'Character_Name', 'Actor_DOB', \n",
    "                'Actor_gender', 'Actor_height', 'Actor_ethnicity', 'Actor_Name', \n",
    "                'Actor_age_at_movie_release', 'Freebase_character_map']\n",
    "\n",
    "characters = pd.read_table(DATA_FOLDER+'character.metadata.tsv', names=columns_char, \n",
    "                           usecols=[0, 1, 3, 4, 5, 6, 7, 8, 9, 10])\n",
    "\n",
    "\n",
    "# Loading movies\n",
    "columns_mov = ['Wikipedia_Movie_ID','Freebase_Movie_ID','Movie_name','Movie_release_date',\n",
    "          'Movie_box_office_revenue', 'Movie_runtime', 'Movie_languages', 'Movie_countries',\n",
    "          'Movie_genres']\n",
    "\n",
    "movies = pd.read_table(DATA_FOLDER+'movie.metadata.tsv', names=columns_mov, skipinitialspace=True)"
   ]
  },
  {
   "cell_type": "markdown",
   "id": "51885e67",
   "metadata": {},
   "source": [
    "### Pre-processing of the data"
   ]
  },
  {
   "cell_type": "markdown",
   "id": "5280f855",
   "metadata": {},
   "source": [
    "In this first part of the notebook, we will process the data to clean them and structure them in a more convinient way for our coming analysis.\n",
    "\n",
    "First, to make our future studies easier, we will split the release date column into two new columns containing the release month and year separately. "
   ]
  },
  {
   "cell_type": "code",
   "execution_count": 9,
   "id": "45ef696c",
   "metadata": {},
   "outputs": [],
   "source": [
    "def split_date(df, dates):\n",
    "    \"\"\"\n",
    "    Define a function to split the date into year and month\n",
    "    Input: df to modify and its column dates\n",
    "    \"\"\"\n",
    "    movie_release_year = []\n",
    "    movie_release_month = []\n",
    "    \n",
    "    for release_date in dates:\n",
    "        if '-' in str(release_date):\n",
    "            splitted_date = release_date.split('-')\n",
    "            movie_release_year.append(splitted_date[0])\n",
    "            movie_release_month.append(splitted_date[1])\n",
    "        else :\n",
    "            movie_release_year.append(str(release_date)[:4])\n",
    "            movie_release_month.append(None)\n",
    "    df['Movie_release_year'] = movie_release_year\n",
    "    df['Movie_release_month'] = movie_release_month\n",
    "    df.drop('Movie_release_date', axis = 1, inplace = True)"
   ]
  },
  {
   "cell_type": "code",
   "execution_count": 10,
   "id": "05d4a7cf",
   "metadata": {},
   "outputs": [
    {
     "data": {
      "text/html": [
       "<div>\n",
       "<style scoped>\n",
       "    .dataframe tbody tr th:only-of-type {\n",
       "        vertical-align: middle;\n",
       "    }\n",
       "\n",
       "    .dataframe tbody tr th {\n",
       "        vertical-align: top;\n",
       "    }\n",
       "\n",
       "    .dataframe thead th {\n",
       "        text-align: right;\n",
       "    }\n",
       "</style>\n",
       "<table border=\"1\" class=\"dataframe\">\n",
       "  <thead>\n",
       "    <tr style=\"text-align: right;\">\n",
       "      <th></th>\n",
       "      <th>Wikipedia_Movie_ID</th>\n",
       "      <th>Freebase_Movie_ID</th>\n",
       "      <th>Movie_name</th>\n",
       "      <th>Movie_box_office_revenue</th>\n",
       "      <th>Movie_runtime</th>\n",
       "      <th>Movie_languages</th>\n",
       "      <th>Movie_countries</th>\n",
       "      <th>Movie_genres</th>\n",
       "      <th>Movie_release_year</th>\n",
       "      <th>Movie_release_month</th>\n",
       "    </tr>\n",
       "  </thead>\n",
       "  <tbody>\n",
       "    <tr>\n",
       "      <th>0</th>\n",
       "      <td>975900</td>\n",
       "      <td>/m/03vyhn</td>\n",
       "      <td>Ghosts of Mars</td>\n",
       "      <td>14010832.0</td>\n",
       "      <td>98.0</td>\n",
       "      <td>{\"/m/02h40lc\": \"English Language\"}</td>\n",
       "      <td>{\"/m/09c7w0\": \"United States of America\"}</td>\n",
       "      <td>{\"/m/01jfsb\": \"Thriller\", \"/m/06n90\": \"Science...</td>\n",
       "      <td>2001</td>\n",
       "      <td>08</td>\n",
       "    </tr>\n",
       "    <tr>\n",
       "      <th>1</th>\n",
       "      <td>3196793</td>\n",
       "      <td>/m/08yl5d</td>\n",
       "      <td>Getting Away with Murder: The JonBenét Ramsey ...</td>\n",
       "      <td>NaN</td>\n",
       "      <td>95.0</td>\n",
       "      <td>{\"/m/02h40lc\": \"English Language\"}</td>\n",
       "      <td>{\"/m/09c7w0\": \"United States of America\"}</td>\n",
       "      <td>{\"/m/02n4kr\": \"Mystery\", \"/m/03bxz7\": \"Biograp...</td>\n",
       "      <td>2000</td>\n",
       "      <td>02</td>\n",
       "    </tr>\n",
       "    <tr>\n",
       "      <th>2</th>\n",
       "      <td>28463795</td>\n",
       "      <td>/m/0crgdbh</td>\n",
       "      <td>Brun bitter</td>\n",
       "      <td>NaN</td>\n",
       "      <td>83.0</td>\n",
       "      <td>{\"/m/05f_3\": \"Norwegian Language\"}</td>\n",
       "      <td>{\"/m/05b4w\": \"Norway\"}</td>\n",
       "      <td>{\"/m/0lsxr\": \"Crime Fiction\", \"/m/07s9rl0\": \"D...</td>\n",
       "      <td>1988</td>\n",
       "      <td>None</td>\n",
       "    </tr>\n",
       "    <tr>\n",
       "      <th>3</th>\n",
       "      <td>9363483</td>\n",
       "      <td>/m/0285_cd</td>\n",
       "      <td>White Of The Eye</td>\n",
       "      <td>NaN</td>\n",
       "      <td>110.0</td>\n",
       "      <td>{\"/m/02h40lc\": \"English Language\"}</td>\n",
       "      <td>{\"/m/07ssc\": \"United Kingdom\"}</td>\n",
       "      <td>{\"/m/01jfsb\": \"Thriller\", \"/m/0glj9q\": \"Erotic...</td>\n",
       "      <td>1987</td>\n",
       "      <td>None</td>\n",
       "    </tr>\n",
       "    <tr>\n",
       "      <th>4</th>\n",
       "      <td>261236</td>\n",
       "      <td>/m/01mrr1</td>\n",
       "      <td>A Woman in Flames</td>\n",
       "      <td>NaN</td>\n",
       "      <td>106.0</td>\n",
       "      <td>{\"/m/04306rv\": \"German Language\"}</td>\n",
       "      <td>{\"/m/0345h\": \"Germany\"}</td>\n",
       "      <td>{\"/m/07s9rl0\": \"Drama\"}</td>\n",
       "      <td>1983</td>\n",
       "      <td>None</td>\n",
       "    </tr>\n",
       "  </tbody>\n",
       "</table>\n",
       "</div>"
      ],
      "text/plain": [
       "   Wikipedia_Movie_ID Freebase_Movie_ID  \\\n",
       "0              975900         /m/03vyhn   \n",
       "1             3196793         /m/08yl5d   \n",
       "2            28463795        /m/0crgdbh   \n",
       "3             9363483        /m/0285_cd   \n",
       "4              261236         /m/01mrr1   \n",
       "\n",
       "                                          Movie_name  \\\n",
       "0                                     Ghosts of Mars   \n",
       "1  Getting Away with Murder: The JonBenét Ramsey ...   \n",
       "2                                        Brun bitter   \n",
       "3                                   White Of The Eye   \n",
       "4                                  A Woman in Flames   \n",
       "\n",
       "   Movie_box_office_revenue  Movie_runtime  \\\n",
       "0                14010832.0           98.0   \n",
       "1                       NaN           95.0   \n",
       "2                       NaN           83.0   \n",
       "3                       NaN          110.0   \n",
       "4                       NaN          106.0   \n",
       "\n",
       "                      Movie_languages  \\\n",
       "0  {\"/m/02h40lc\": \"English Language\"}   \n",
       "1  {\"/m/02h40lc\": \"English Language\"}   \n",
       "2  {\"/m/05f_3\": \"Norwegian Language\"}   \n",
       "3  {\"/m/02h40lc\": \"English Language\"}   \n",
       "4   {\"/m/04306rv\": \"German Language\"}   \n",
       "\n",
       "                             Movie_countries  \\\n",
       "0  {\"/m/09c7w0\": \"United States of America\"}   \n",
       "1  {\"/m/09c7w0\": \"United States of America\"}   \n",
       "2                     {\"/m/05b4w\": \"Norway\"}   \n",
       "3             {\"/m/07ssc\": \"United Kingdom\"}   \n",
       "4                    {\"/m/0345h\": \"Germany\"}   \n",
       "\n",
       "                                        Movie_genres Movie_release_year  \\\n",
       "0  {\"/m/01jfsb\": \"Thriller\", \"/m/06n90\": \"Science...               2001   \n",
       "1  {\"/m/02n4kr\": \"Mystery\", \"/m/03bxz7\": \"Biograp...               2000   \n",
       "2  {\"/m/0lsxr\": \"Crime Fiction\", \"/m/07s9rl0\": \"D...               1988   \n",
       "3  {\"/m/01jfsb\": \"Thriller\", \"/m/0glj9q\": \"Erotic...               1987   \n",
       "4                            {\"/m/07s9rl0\": \"Drama\"}               1983   \n",
       "\n",
       "  Movie_release_month  \n",
       "0                  08  \n",
       "1                  02  \n",
       "2                None  \n",
       "3                None  \n",
       "4                None  "
      ]
     },
     "execution_count": 10,
     "metadata": {},
     "output_type": "execute_result"
    }
   ],
   "source": [
    "split_date(movies, movies['Movie_release_date'])\n",
    "\n",
    "movies.head()"
   ]
  },
  {
   "cell_type": "markdown",
   "id": "ba999820",
   "metadata": {},
   "source": [
    "Let us now focus more specifically on the year of release."
   ]
  },
  {
   "cell_type": "code",
   "execution_count": 11,
   "id": "8c34ebd6",
   "metadata": {},
   "outputs": [
    {
     "data": {
      "text/plain": [
       "Movie_release_year\n",
       "1010       1\n",
       "1888       1\n",
       "1889       1\n",
       "1890       2\n",
       "1891       3\n",
       "        ... \n",
       "2013     164\n",
       "2014      17\n",
       "2015       4\n",
       "2016       3\n",
       "nan     6902\n",
       "Length: 131, dtype: int64"
      ]
     },
     "execution_count": 11,
     "metadata": {},
     "output_type": "execute_result"
    }
   ],
   "source": [
    "#It seems that a movie has a release date of 1010, this is clearly an outlier.\n",
    "\n",
    "movies.groupby('Movie_release_year').size()"
   ]
  },
  {
   "cell_type": "markdown",
   "id": "9bc228d1",
   "metadata": {},
   "source": [
    "Since there is only one outlier, we could check the true value of the release date of the film (it was released in 2010) and simply replace it, instead of dropping the movie."
   ]
  },
  {
   "cell_type": "code",
   "execution_count": 12,
   "id": "df485920",
   "metadata": {},
   "outputs": [],
   "source": [
    "movies.Movie_release_year = movies.Movie_release_year.replace('1010', '2010')"
   ]
  },
  {
   "cell_type": "markdown",
   "id": "2c437111",
   "metadata": {},
   "source": [
    "Regarding other features, since we do not aim to use graph representation, we have to drop the IDs in front of the languages, the movie genre and movie countries."
   ]
  },
  {
   "cell_type": "code",
   "execution_count": 13,
   "id": "bf173887",
   "metadata": {},
   "outputs": [],
   "source": [
    "def split_action_advent(genres):\n",
    "    '''\n",
    "    Split the movie genre 'Action/Adventure' (if present)\n",
    "    into the two distinct genres 'Action' & 'Adventure'\n",
    "    :param genres: list of genres of a movie\n",
    "    :return: eventually modified list of movie genre\n",
    "    '''\n",
    "    if 'Action/Adventure' in genres:\n",
    "        idx = genres.index('Action/Adventure')\n",
    "        genres[idx: idx+1] = ('Action', 'Adventure')\n",
    "    return genres "
   ]
  },
  {
   "cell_type": "code",
   "execution_count": 14,
   "id": "48cefbfa",
   "metadata": {},
   "outputs": [],
   "source": [
    "# Drop IDs before movie language, genre and country and split feature values into a list\n",
    "\n",
    "movies['Movie_genres'] = movies['Movie_genres'].apply(lambda x: re.split(': |,', \n",
    "                                                x.replace('\"', '').replace('}', ''))[1::2])\n",
    "\n",
    "movies['Movie_countries'] = movies['Movie_countries'].apply(lambda x: re.split(': |,', \n",
    "                                                x.replace('\"', '').replace('}', ''))[1::2])\n",
    "\n",
    "movies['Movie_languages'] = movies['Movie_languages'].apply(lambda x: re.split(': |,', \n",
    "                                                x.replace('\"', '').replace('}', '').replace(' Language', ''))[1::2])"
   ]
  },
  {
   "cell_type": "code",
   "execution_count": 15,
   "id": "1d50950c",
   "metadata": {},
   "outputs": [],
   "source": [
    "# Split genre Action/Adventure in two different genres\n",
    "\n",
    "movies['Movie_genres'] = movies['Movie_genres'].apply(split_action_advent)\n",
    "\n",
    "# Drop unrelevant genre\n",
    "movies['Movie_genres'] = movies[movies['Movie_genres']!='Film \\u00e0']['Movie_genres']"
   ]
  },
  {
   "cell_type": "code",
   "execution_count": null,
   "id": "f97022c2",
   "metadata": {},
   "outputs": [],
   "source": [
    "movies.head()"
   ]
  },
  {
   "cell_type": "code",
   "execution_count": null,
   "id": "d8441d20",
   "metadata": {},
   "outputs": [],
   "source": [
    "# Keep only the 3 first countries\n",
    "\n",
    "movies['Movie_countries'] = movies['Movie_countries'].apply(lambda x: x[:3])\n",
    "\n",
    "# Create new column for the 3 countries\n",
    "\n",
    "countries = [[], [], []]\n",
    "\n",
    "for country in movies['Movie_countries']:\n",
    "    for i in range(3):\n",
    "        if i < len(country):\n",
    "            countries[i].append(str(country[i]))\n",
    "        else:\n",
    "            countries[i].append(np.nan)\n",
    "\n",
    "movies['Movie_country_1'] = countries[0]\n",
    "movies['Movie_country_2'] = countries[1]\n",
    "movies['Movie_country_3'] = countries[2]\n",
    "\n",
    "#movies = movies.drop(columns='Movie_countries')"
   ]
  },
  {
   "cell_type": "code",
   "execution_count": null,
   "id": "d4329ec5",
   "metadata": {},
   "outputs": [],
   "source": [
    "# Keep only the 3 first genre\n",
    "\n",
    "movies['Movie_genres'] = movies['Movie_genres'].apply(lambda x: x[:3])\n",
    "\n",
    "# Create new column for the 3 genre\n",
    "\n",
    "genres = [[], [], []]\n",
    "\n",
    "for genre in movies['Movie_genres']:\n",
    "    for i in range(3):\n",
    "        if i < len(genre):\n",
    "            genres[i].append(str(genre[i]))\n",
    "        else:\n",
    "            genres[i].append(np.nan)\n",
    "\n",
    "movies['Movie_genre_1'] = genres[0]\n",
    "movies['Movie_genre_2'] = genres[1]\n",
    "movies['Movie_genre_3'] = genres[2]\n",
    "\n",
    "movies = movies.drop(columns='Movie_genres')"
   ]
  },
  {
   "cell_type": "markdown",
   "id": "6f7535bd",
   "metadata": {},
   "source": [
    "Finally, empty lists in the columns `Movie_languages` and `Movie_countries` have to be replaced by nan values."
   ]
  },
  {
   "cell_type": "code",
   "execution_count": null,
   "id": "43c84aeb",
   "metadata": {},
   "outputs": [],
   "source": [
    "# Replace missing values in list features by np.nan\n",
    "\n",
    "movies['Movie_languages'] = movies['Movie_languages'].apply(lambda x: np.nan if x == [] else x)"
   ]
  },
  {
   "cell_type": "markdown",
   "id": "48a7276a",
   "metadata": {},
   "source": [
    "### Visualize data set"
   ]
  },
  {
   "cell_type": "markdown",
   "id": "8162b3f1",
   "metadata": {},
   "source": [
    "#### 1) Movies"
   ]
  },
  {
   "cell_type": "markdown",
   "id": "2bdac9ae",
   "metadata": {},
   "source": [
    "Let us first focus on movies dataset. We wish to visualize the distribution of the most common movie contries (i.e. countries of production), the distribution of the common genres and finally we will plot a bar chart of the missing values."
   ]
  },
  {
   "cell_type": "code",
   "execution_count": null,
   "id": "3d13eb34",
   "metadata": {},
   "outputs": [],
   "source": [
    "countries = movies[['Movie_country_1', 'Movie_country_2', 'Movie_country_3']].apply(pd.Series.value_counts).sum(axis=1)"
   ]
  },
  {
   "cell_type": "code",
   "execution_count": null,
   "id": "5b8e4684",
   "metadata": {},
   "outputs": [],
   "source": [
    "top20_countries = countries.sort_values(ascending = False)[:20]"
   ]
  },
  {
   "cell_type": "code",
   "execution_count": null,
   "id": "e1bd6e60",
   "metadata": {},
   "outputs": [],
   "source": [
    "plt.figure(figsize=(20,6))\n",
    "top20_countries.plot.bar()\n",
    "plt.title(\"Distribution of the 20 most common production countries\")\n",
    "plt.xlabel('Movie countries')\n",
    "plt.ylabel('Number of movies')"
   ]
  },
  {
   "cell_type": "code",
   "execution_count": null,
   "id": "088a8a7c",
   "metadata": {},
   "outputs": [],
   "source": [
    "genres = movies[['Movie_genre_1', 'Movie_genre_2', 'Movie_genre_3']].apply(pd.Series.value_counts).sum(axis=1)"
   ]
  },
  {
   "cell_type": "code",
   "execution_count": null,
   "id": "085a15bf",
   "metadata": {},
   "outputs": [],
   "source": [
    "top20_genres = genres.sort_values(ascending = False)[:20]"
   ]
  },
  {
   "cell_type": "code",
   "execution_count": null,
   "id": "3f2b4328",
   "metadata": {},
   "outputs": [],
   "source": [
    "plt.figure(figsize=(20,6))\n",
    "top20_genres.plot.bar()\n",
    "plt.title(\"Distribution of the 20 most common genres\")\n",
    "plt.xlabel('Movie genres')\n",
    "plt.ylabel('Number of movies')"
   ]
  },
  {
   "cell_type": "code",
   "execution_count": null,
   "id": "2905c83a",
   "metadata": {},
   "outputs": [],
   "source": [
    "top_20_movies = movies[movies['Movie_genre_1'].isin(top20_genres.index)]\n",
    "\n",
    "# Group the data by month and genre and calculate the count of movies in each category\n",
    "genre_month_counts = top_20_movies.groupby(['Movie_release_month', 'Movie_genre_1']).size().unstack(fill_value=0)\n",
    "\n",
    "# Create a heatmap to visualize the data\n",
    "plt.figure(figsize=(12, 8))\n",
    "sns.heatmap(genre_month_counts, cmap='YlGnBu', annot=True, fmt='d', cbar=True, linewidths=0.5)\n",
    "plt.title('Movie Genre Evolution by Month (Top 20 Genres)')\n",
    "plt.xlabel('Genre')\n",
    "plt.ylabel('Month')\n",
    "plt.show()"
   ]
  },
  {
   "cell_type": "code",
   "execution_count": null,
   "id": "081794dc",
   "metadata": {},
   "outputs": [],
   "source": [
    "# Function to plot % of NaN values\n",
    "\n",
    "### Modify comments here\n",
    "def plot_nan(df, title):\n",
    "    # Calculate the percentage of NaN values in each column\n",
    "    nan_values = df.isnull().mean() * 100\n",
    "    # Create a bar plot\n",
    "    nan_values.plot(kind='bar', figsize=(12,6))\n",
    "    plt.title(title)\n",
    "    plt.ylabel('Percentage missing values')\n",
    "    plt.xlabel('Features')\n",
    "    plt.show()"
   ]
  },
  {
   "cell_type": "code",
   "execution_count": null,
   "id": "5033124e",
   "metadata": {},
   "outputs": [],
   "source": [
    "plot_nan(movies, 'Percentage of Missing Values per feature')"
   ]
  },
  {
   "cell_type": "markdown",
   "id": "8c4e1360",
   "metadata": {},
   "source": [
    "As we can see, there are a lot of missing values (about 89%) in the `Movie_box_office_revenue` column. This is an major issue to perform different analysis of the success of a film. This serves as motivation to work with other datasets for our future analysis to complete this one.\n",
    "\n",
    "Other high values of missing data such as `Movie_country_2` and `Movie_country_3` are not alarming since most of the movies already have information in `Movie_country_1` and may solely have one production country. This is the same for `Movie_genre_`."
   ]
  },
  {
   "cell_type": "markdown",
   "id": "91aa18d7",
   "metadata": {},
   "source": [
    "#### 2) Characters"
   ]
  },
  {
   "cell_type": "code",
   "execution_count": null,
   "id": "eee7996f",
   "metadata": {},
   "outputs": [],
   "source": [
    "characters.head()"
   ]
  },
  {
   "cell_type": "code",
   "execution_count": null,
   "id": "2cf21ee9",
   "metadata": {},
   "outputs": [],
   "source": [
    "characters[characters['Freebase_character_map']=='/m/02nwzzv'][:]"
   ]
  },
  {
   "cell_type": "code",
   "execution_count": null,
   "id": "8f4f41e7",
   "metadata": {},
   "outputs": [],
   "source": [
    "plot_nan(characters, 'Percentage of Missing Values per feature')"
   ]
  },
  {
   "cell_type": "code",
   "execution_count": null,
   "id": "f53e2a0d",
   "metadata": {},
   "outputs": [],
   "source": [
    "gender_counts = characters.groupby('Actor_gender').size()"
   ]
  },
  {
   "cell_type": "code",
   "execution_count": null,
   "id": "6086dcb3",
   "metadata": {},
   "outputs": [],
   "source": [
    "# Plotting a pie chart\n",
    "fig, ax = plt.subplots()\n",
    "ax.pie(gender_counts, labels=gender_counts.index, autopct='%1.1f%%', startangle=90, colors=['pink', 'blue'])\n",
    "ax.axis('equal')  # Equal aspect ratio ensures that pie is drawn as a circle.\n",
    "\n",
    "# Set the title\n",
    "plt.title('Gender Repartition of Characters')\n",
    "\n",
    "# Show the plot\n",
    "plt.show()"
   ]
  },
  {
   "cell_type": "code",
   "execution_count": null,
   "id": "0a6fbcf3",
   "metadata": {},
   "outputs": [],
   "source": [
    "# It seems like there are some actors with a negatif age. Let us remove them from our data set\n",
    "characters[characters['Actor_age_at_movie_release'] < 0]"
   ]
  },
  {
   "cell_type": "code",
   "execution_count": null,
   "id": "17fb1e96",
   "metadata": {},
   "outputs": [],
   "source": [
    "characters = characters[characters['Actor_age_at_movie_release'] >= 0]\n",
    "characters['Actor_age_at_movie_release'].hist(bins = 100)\n",
    "plt.xlabel('Actor age at movie release')\n",
    "plt.ylabel('Number of actors')\n",
    "plt.title('Actor age at movie release histogram');"
   ]
  },
  {
   "cell_type": "code",
   "execution_count": null,
   "id": "8589c689",
   "metadata": {},
   "outputs": [],
   "source": [
    "# Again, it seems that there are some characaters with a height larger than 3 meters...\n",
    "characters[characters['Actor_height'] > 3].shape"
   ]
  },
  {
   "cell_type": "code",
   "execution_count": null,
   "id": "7e834649",
   "metadata": {},
   "outputs": [],
   "source": [
    "characters = characters[characters['Actor_height'] < 3]"
   ]
  },
  {
   "cell_type": "code",
   "execution_count": null,
   "id": "f3391e7a",
   "metadata": {},
   "outputs": [],
   "source": [
    "characters['Actor_height'].hist(bins = 50)"
   ]
  },
  {
   "cell_type": "markdown",
   "id": "3614e7f4",
   "metadata": {},
   "source": [
    "#### 3) Plot"
   ]
  },
  {
   "cell_type": "code",
   "execution_count": null,
   "id": "aa33c2b9",
   "metadata": {},
   "outputs": [],
   "source": [
    "columns_plot = ['Film ID', 'Plot summary']\n",
    "\n",
    "plot = pd.read_table(DATA_FOLDER+'plot_summaries.txt', names=columns_plot)\n",
    "plot.head()"
   ]
  },
  {
   "cell_type": "code",
   "execution_count": null,
   "id": "8a707d1b",
   "metadata": {},
   "outputs": [],
   "source": [
    "movies_with_plot = movies['Wikipedia_Movie_ID'].isin(plot['Film ID']).sum()/len(movies)\n",
    "\n",
    "print(f'Percentage of films with plots: {movies_with_plot:.2%}')"
   ]
  },
  {
   "cell_type": "markdown",
   "id": "a672a014",
   "metadata": {},
   "source": [
    "### Augmenting CMU dataset with IMDb dataset"
   ]
  },
  {
   "cell_type": "markdown",
   "id": "b4fd36f7",
   "metadata": {},
   "source": [
    "CMU dataset has a lot of missing values for the `Movie_box_office_revenue` and does not contain any rating for the different movie. Therefore we have chosen to complete CMU dataset with the one of IMDb, which is a a trusted source.\n",
    "\n",
    "It is possible to join these datasets on the column called \"tconst\" but to join IMDb dataset with the CMU dataset Wikidata query must be used."
   ]
  },
  {
   "cell_type": "code",
   "execution_count": null,
   "id": "b24bcf97",
   "metadata": {},
   "outputs": [],
   "source": [
    "#def query_wikidata():\n",
    "#    url = 'https://query.wikidata.org/sparql'\n",
    "#    query = \"\"\"\n",
    "#    SELECT ?item ?imdb ?freebase WHERE {\n",
    "#      ?item wdt:P345 ?imdb.\n",
    "#      ?item wdt:P646 ?freebase.\n",
    "#    }\n",
    "#    \"\"\"\n",
    "#    r = requests.get(url, params = {'format': 'json', 'query': query})\n",
    "#    data = r.json()\n",
    "#    return data"
   ]
  },
  {
   "cell_type": "code",
   "execution_count": null,
   "id": "e271627f",
   "metadata": {},
   "outputs": [],
   "source": [
    "#def json_to_df(data):\n",
    "#    imdb_ids = []\n",
    "#    freebase_ids = []\n",
    "#    for item in data['results']['bindings']:\n",
    "#        imdb_ids.append(item['imdb']['value'])\n",
    "#        freebase_ids.append(item['freebase']['value'])\n",
    "#    df = pd.DataFrame({'imdb_id': imdb_ids, 'freebase_id': freebase_ids})\n",
    "#    return df"
   ]
  },
  {
   "cell_type": "code",
   "execution_count": null,
   "id": "73fcd97e",
   "metadata": {},
   "outputs": [],
   "source": [
    "# Load the two files from IMDb\n",
    "\n",
    "IMDb_path = './external_data_sets/IMDb/'\n",
    "basics_df = pd.read_csv(IMDb_path + 'basics.tsv', delimiter='\\t', low_memory=False)\n",
    "ratings_df = pd.read_csv(IMDb_path + 'ratings.tsv', delimiter='\\t')"
   ]
  },
  {
   "cell_type": "code",
   "execution_count": null,
   "id": "93002951",
   "metadata": {},
   "outputs": [],
   "source": [
    "# Inspect the first few rows of the datasets\n",
    "\n",
    "print(\"Basics DataFrame:\")\n",
    "print(basics_df.head())\n",
    "print(\"\\nRatings DataFrame:\")\n",
    "print(ratings_df.head())"
   ]
  },
  {
   "cell_type": "code",
   "execution_count": null,
   "id": "af14a8ec",
   "metadata": {},
   "outputs": [],
   "source": [
    "# Get the column names\n",
    "\n",
    "print(\"\\nBasics DataFrame columns:\")\n",
    "print(basics_df.columns)\n",
    "print(\"\\nRatings DataFrame columns:\")\n",
    "print(ratings_df.columns)"
   ]
  },
  {
   "cell_type": "code",
   "execution_count": null,
   "id": "e894c782",
   "metadata": {},
   "outputs": [],
   "source": [
    "# Get the number of NaN values in each column\n",
    "\n",
    "print(\"\\nNumber of NaN values in Basics DataFrame:\")\n",
    "print(basics_df.isnull().sum())\n",
    "print(\"\\nNumber of NaN values in Ratings DataFrame:\")\n",
    "print(ratings_df.isnull().sum())"
   ]
  },
  {
   "cell_type": "code",
   "execution_count": null,
   "id": "ff34d432",
   "metadata": {},
   "outputs": [],
   "source": [
    "# Merge the two IMDb dataframes into 1 using the title\n",
    "\n",
    "IMDb_df = pd.merge(basics_df,ratings_df, on = 'tconst')"
   ]
  },
  {
   "cell_type": "code",
   "execution_count": null,
   "id": "b9dfbc3a",
   "metadata": {
    "scrolled": false
   },
   "outputs": [],
   "source": [
    "# Plot NaN values\n",
    "\n",
    "plot_nan(basics_df, 'NaN values in Basics DataFrame')\n",
    "plot_nan(ratings_df, 'NaN values in Ratings DataFrame')\n",
    "plot_nan(IMDb_df, 'NaN values in Merged DataFrame')"
   ]
  },
  {
   "cell_type": "code",
   "execution_count": null,
   "id": "5f708c22",
   "metadata": {},
   "outputs": [],
   "source": [
    "IMDb_df.sample(5)"
   ]
  },
  {
   "cell_type": "code",
   "execution_count": null,
   "id": "da791b15",
   "metadata": {},
   "outputs": [],
   "source": [
    "IMDb_df.columns, movies.columns"
   ]
  },
  {
   "cell_type": "code",
   "execution_count": null,
   "id": "554518bc",
   "metadata": {},
   "outputs": [],
   "source": [
    "data = query_wikidata()"
   ]
  },
  {
   "cell_type": "code",
   "execution_count": null,
   "id": "c7efb512",
   "metadata": {},
   "outputs": [],
   "source": [
    "wikidata_df = json_to_df(data)"
   ]
  },
  {
   "cell_type": "code",
   "execution_count": null,
   "id": "a99e5782",
   "metadata": {},
   "outputs": [],
   "source": [
    "# The merge below is to keep ONLY the films that are in the cmu_df and in IMDb_df\n",
    "\n",
    "# Merge cmu_df with wikidata_df\n",
    "merged_df = movies.merge(wikidata_df, how='inner', left_on='Freebase_Movie_ID', right_on='freebase_id')\n",
    "\n",
    "# Merge the result with IMDb_df\n",
    "merged_df = merged_df.merge(IMDb_df, how='inner', left_on='imdb_id', right_on='tconst')"
   ]
  },
  {
   "cell_type": "code",
   "execution_count": null,
   "id": "91e26e53",
   "metadata": {},
   "outputs": [],
   "source": [
    "merged_df.size, IMDb_df.size, movies.size"
   ]
  },
  {
   "cell_type": "code",
   "execution_count": null,
   "id": "455bfd53",
   "metadata": {},
   "outputs": [],
   "source": [
    "merged_df.sample(5)"
   ]
  },
  {
   "cell_type": "code",
   "execution_count": null,
   "id": "8e972c09",
   "metadata": {},
   "outputs": [],
   "source": [
    "plot_nan(merged_df, 'Missing values in the augmentaed data frame')"
   ]
  },
  {
   "cell_type": "code",
   "execution_count": null,
   "id": "e2de25c1",
   "metadata": {},
   "outputs": [],
   "source": [
    "print(len(merged_df), len(movies))"
   ]
  },
  {
   "cell_type": "markdown",
   "id": "a475c78c",
   "metadata": {},
   "source": [
    "### First stage analysis of impact of the production country"
   ]
  },
  {
   "cell_type": "code",
   "execution_count": null,
   "id": "de24eacf",
   "metadata": {},
   "outputs": [],
   "source": [
    "df_expanded = merged_df.explode('Movie_countries')\n",
    "df_top20_genre_country = df_expanded[(df_expanded['Movie_genre_1'].isin(top20_genres.index))&\n",
    "                        (df_expanded[df_expanded['Movie_countries'].isin(top20_countries.index)])]"
   ]
  },
  {
   "cell_type": "code",
   "execution_count": null,
   "id": "958857b3",
   "metadata": {},
   "outputs": [],
   "source": [
    "df_top20_genre_country = merged_df[(merged_df['Movie_genre_1'].isin(top20_genres.index))&\n",
    "                        (merged_df[merged_df['Movie_countries'].apply(lambda x: any([k in x for k in top20_genres.index]))])]\n",
    "\n",
    "df_top20_genre_country.head()"
   ]
  },
  {
   "cell_type": "code",
   "execution_count": null,
   "id": "44cb25e9",
   "metadata": {},
   "outputs": [],
   "source": [
    "# Group the data by genre and genre and calculate the count of movies in each category\n",
    "genre_country_counts = df_top20_genre_country.groupby(['Movie_genre_1', 'Movie_country_1']).size().unstack(fill_value=0)\n",
    "\n",
    "# Create a heatmap to visualize the data\n",
    "plt.figure(figsize=(12, 8))\n",
    "sns.heatmap(genre_country_counts, cmap='YlGnBu', annot=True, fmt='d', cbar=True, linewidths=0.5)\n",
    "plt.title('Movie Genre accross different production country (Top 20 Genres and Countries)')\n",
    "plt.xlabel('Country')\n",
    "plt.ylabel('Genre')\n",
    "plt.show()"
   ]
  },
  {
   "cell_type": "code",
   "execution_count": null,
   "id": "f6c93ab5",
   "metadata": {},
   "outputs": [],
   "source": [
    "df_top20_countries = merged_df[merged_df['Movie_country_1'].isin(top20_countries.index)]"
   ]
  },
  {
   "cell_type": "code",
   "execution_count": null,
   "id": "a8a18ff3",
   "metadata": {},
   "outputs": [],
   "source": [
    "country = merged_df.groupby('Movie_country_1')\n",
    "\n",
    "fig, ax = plt.subplots(4,5,figsize= (8,6), sharey = True, sharex = True)\n",
    "\n",
    "for i, name in enumerate(top20_countries.index):\n",
    "    sbplt = ax[i%4, i//4]\n",
    "    sbplt.hist(country.get_group(name).averageRating, range = [0,10], density=True, bins = 40)\n",
    "    sbplt.set_title(name)\n",
    "\n",
    "    \n",
    "fig.tight_layout()\n",
    "\n",
    "fig.text(0.4,0, \"Ratings\")\n",
    "fig.text(0,0.5, \"Numbers\", rotation = 90)"
   ]
  },
  {
   "cell_type": "code",
   "execution_count": null,
   "id": "7fda908f",
   "metadata": {},
   "outputs": [],
   "source": [
    "ax = sns.boxplot(x=\"Movie_country_1\", y=\"averageRating\", data=df_top20_countries)\n",
    "\n",
    "plt.setp(ax.get_xticklabels(), rotation=90);"
   ]
  },
  {
   "cell_type": "code",
   "execution_count": null,
   "id": "642363e7",
   "metadata": {},
   "outputs": [],
   "source": [
    "df_american_movies = merged_df[merged_df['Movie_country_1']=='United States of America']\n",
    "df_top20_genre_american = df_american_movies[df_american_movies['Movie_genre_1'].isin(top20_genres.index)]\n",
    "\n",
    "df_indian_movies = merged_df[merged_df['Movie_country_1']=='India']\n",
    "df_top20_genre_indian = df_indian_movies[df_indian_movies['Movie_genre_1'].isin(top20_genres.index)]"
   ]
  },
  {
   "cell_type": "code",
   "execution_count": null,
   "id": "9d2ac89d",
   "metadata": {},
   "outputs": [],
   "source": [
    "plt.figure(figsize=(10,4))\n",
    "plt.subplot(1, 2, 1)\n",
    "\n",
    "plt.title(\"America\")\n",
    "ax1 = sns.boxplot(x=\"Movie_genre_1\", y=\"averageRating\", data=df_top20_genre_american.sort_values(by='Movie_genre_1'))\n",
    "plt.setp(ax1.get_xticklabels(), rotation=90);\n",
    "\n",
    "plt.subplot(1, 2, 2)\n",
    "ax2 = sns.boxplot(x=\"Movie_genre_1\", y=\"averageRating\", data=df_top20_genre_indian.sort_values(by='Movie_genre_1'))\n",
    "plt.title(\"India\")\n",
    "\n",
    "plt.setp(ax2.get_xticklabels(), rotation=90);"
   ]
  },
  {
   "cell_type": "code",
   "execution_count": null,
   "id": "a38e3c52",
   "metadata": {},
   "outputs": [],
   "source": [
    "movies_by_year_top20_country = df_top20_countries.groupby(['Movie_release_year'])\n",
    "yearly_avg_rating_country = df_top20_countries.groupby(['Movie_release_year', 'Movie_country_1'])['averageRating'].mean()\n",
    "\n",
    "type(yearly_avg_rating_country)"
   ]
  },
  {
   "cell_type": "code",
   "execution_count": null,
   "id": "56ba2be2",
   "metadata": {},
   "outputs": [],
   "source": [
    "plt.figure(figsize=(20,6))\n",
    "ax = sns.lineplot(x='Movie_release_year', y=yearly_avg_rating_country.values[200:], data=yearly_avg_rating_country[200:], hue='Movie_country_1')\n",
    "\n",
    "plt.setp(ax.get_xticklabels(), rotation=90);"
   ]
  }
 ],
 "metadata": {
  "kernelspec": {
   "display_name": "Python 3 (ipykernel)",
   "language": "python",
   "name": "python3"
  },
  "language_info": {
   "codemirror_mode": {
    "name": "ipython",
    "version": 3
   },
   "file_extension": ".py",
   "mimetype": "text/x-python",
   "name": "python",
   "nbconvert_exporter": "python",
   "pygments_lexer": "ipython3",
   "version": "3.9.18"
  }
 },
 "nbformat": 4,
 "nbformat_minor": 5
}
